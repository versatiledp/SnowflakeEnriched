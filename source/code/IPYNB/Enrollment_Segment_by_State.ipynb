{
 "cells": [
  {
   "cell_type": "code",
   "execution_count": null,
   "metadata": {
    "id": "hIiHcK2UwCxb"
   },
   "outputs": [],
   "source": [
    "pip install snowflake-connector-python==2.3.6 > /dev/null"
   ]
  },
  {
   "cell_type": "code",
   "execution_count": null,
   "metadata": {
    "colab": {
     "base_uri": "https://localhost:8080/"
    },
    "id": "_zXWT1vtwYUh",
    "outputId": "8cf18004-5f84-4398-8695-b749176ee83e"
   },
   "outputs": [
    {
     "name": "stdout",
     "output_type": "stream",
     "text": [
      "Enter Snowflake account name··········\n",
      "Enter Snowflake user name:··········\n",
      "Enter Snowflake password··········\n"
     ]
    }
   ],
   "source": [
    "# Get Snowflake credentials\n",
    "from getpass import getpass\n",
    "accountName = getpass('Enter Snowflake account name')\n",
    "userName = getpass('Enter Snowflake user name:')\n",
    "password = getpass('Enter Snowflake password')\n",
    "databaseName = 'ipeds' #@param {type:\"string\"}\n",
    "sourceSchema = \"Public\" #@param {type:\"string\"}\n",
    "warehouseName = \"COMPUTE_WH\" #@param {type:\"string\"}"
   ]
  },
  {
   "cell_type": "code",
   "execution_count": null,
   "metadata": {
    "id": "shsaCaLEwaJ3"
   },
   "outputs": [],
   "source": [
    "# Connect to snowflake and execute the query\n",
    "# Create dataframe from dataset\n",
    "# Close all the open connection\n",
    "\n",
    "import snowflake.connector\n",
    "import pandas as pd\n",
    "from __future__ import print_function\n",
    "from ipywidgets import interactive\n",
    "\n",
    "import ipywidgets as widgets\n",
    "\n",
    "#get Snowflake version\n",
    "ctx = snowflake.connector.connect(\n",
    "    user=userName,\n",
    "    password=password,\n",
    "    account=accountName,\n",
    "    database=databaseName,\n",
    "    warehouse=warehouseName\n",
    ")\n",
    "cs = ctx.cursor()\n",
    "try:\n",
    "  sql = \"\"\"  \n",
    "  SELECT \n",
    "    EN.AcademicYear  \n",
    "    ,Inst.State   \n",
    "    ,SUM(TOTALMEN) AS \"Total Men\"\n",
    "    ,SUM(TOTALWOMEN) AS \"Total Women\"\n",
    "    ,SUM(EN.WhiteMen) AS \"White Men\"\n",
    "    ,SUM(EN.WhiteWomen) AS \"White Women\"\n",
    "    ,SUM(EN.NonresidentAlienMen) AS \"Non resident alien Men\"\n",
    "    ,SUM(EN.NonresidentAlienWomen) AS \"Non resident alien Women\"\n",
    "    ,SUM(EN.AFRICANAMERICANMEN) AS \"Black/AfricanAmerican Men\"\n",
    "    ,SUM(EN.AFRICANAMERICANWOMEN) AS \"Black/AfricanAmerican Women\"\n",
    "    ,SUM(EN.HispanicOrLatinoMen) AS \"Hispanic Men\"\n",
    "    ,SUM(EN.HispanicOrLatinoWomen) AS \"Hispanic Women\"\n",
    "    ,SUM(EN.AsianMen) AS \"Asian Men\"\n",
    "    ,SUM(EN.AsianWomen) AS \"Asian Women\"\n",
    "    ,SUM(EN.AmericanIndianOrAlaskaNativeMen) AS \"American \\\n",
    "          Indian /Alaska Native Men\"\n",
    "    ,SUM(EN.AmericanIndianOrAlaskaNativeWomen) AS \"American \\\n",
    "          Indian /Alaska Native Women\"\n",
    "    ,SUM(EN.HAWAIIANPACIFICISLANDERMEN) AS \"Native Hawaiian Men\"\n",
    "    ,SUM(EN.HAWAIIANPACIFICISLANDERWOMEN) \n",
    "        AS \"Native Hawaiian Women\"\n",
    "  FROM ENROLLMENT EN\n",
    "  INNER JOIN ACADEMICINSTITUTION Inst \n",
    "    ON EN.INSTITUTIONIDENTIFIER = Inst.INSTITUTIONIDENTIFIER\n",
    "  WHERE Inst.DEGREEGRANTINGSTATUS = 1  \n",
    "  AND Inst.State IN ('TX','FL','CA','NY','PA','IL','OH','GA','NC'\\\n",
    "      ,'MI','NJ','VA','WA','AZ','MA','TN','IN','MO','WI','MD')\n",
    "  GROUP BY EN.AcademicYear,Inst.State ;\n",
    " \"\"\"\n",
    "  cs.execute(sql)\n",
    "  records = cs.fetchall()\n",
    "  names = [x[0] for x in cs.description]\n",
    "  df1 = pd.DataFrame(records,columns=names) \n",
    "finally:\n",
    "    cs.close()\n",
    "    ctx.close()"
   ]
  },
  {
   "cell_type": "code",
   "execution_count": null,
   "metadata": {
    "id": "U-Ft1cWz9q3l"
   },
   "outputs": [],
   "source": [
    "# Convert all the integer columns to float. \n",
    "# Float allows to use the formatting while printing dataframe\n",
    "for (columnName, columnData) in df1.iteritems():\n",
    "   #print('Colunm Name : ', columnName)\n",
    "   if (columnName != 'ACADEMICYEAR' and columnName != 'STATE') :\n",
    "     df1[columnName] = df1[columnName].astype(float)"
   ]
  },
  {
   "cell_type": "code",
   "execution_count": null,
   "metadata": {},
   "outputs": [],
   "source": [
    "  # Select the year for report  \n",
    "  def f(Year):\n",
    "    return Year\n",
    "  \n",
    "  w = interactive(f,Year = df1.ACADEMICYEAR .unique());\n",
    "  display(w);"
   ]
  },
  {
   "cell_type": "code",
   "execution_count": null,
   "metadata": {
    "id": "Vg9Mud1h7285"
   },
   "outputs": [],
   "source": [
    "# Filter data for the year selected by user & drop \n",
    "# the data column not used in reporting layer\n",
    "dfFilter = df1[df1.ACADEMICYEAR.eq(w.result)] \n",
    "dfFilter=dfFilter.drop(columns=['ACADEMICYEAR'])"
   ]
  },
  {
   "cell_type": "code",
   "execution_count": null,
   "metadata": {},
   "outputs": [],
   "source": [
    "# Transpose data from rows to column\n",
    "# The first row has column name , use the column names from first row \n",
    "# Create data frame, rename the first column\n",
    "# Sort the column 1 to n so state codes comes in desired order and print\n",
    "\n",
    "dft=dfFilter.T\n",
    "dft.reset_index(level=0, inplace=True)\n",
    "headers = dft.iloc[0]\n",
    "#dft.reindex(columns=sorted(dft.iloc[1:]))\n",
    "new_df  = pd.DataFrame(dft.values[1:], columns=headers)\n",
    "\n",
    "new_df = new_df.rename(columns = {\"STATE\":\"Segment\"}) \n",
    "\n",
    "new_columns = [new_df.columns[0]]\n",
    "new_columns.extend(sorted(new_df.columns[1:]))\n",
    "new_df = new_df.reindex(columns=new_columns)\n",
    "\n",
    "pd.options.display.float_format = '{:,.0f}'.format  \n",
    "from IPython.display import HTML\n",
    "HTML(new_df.to_html(index=False))"
   ]
  }
 ],
 "metadata": {
  "colab": {
   "collapsed_sections": [],
   "name": "Enrollment_Segment_by_State.ipynb",
   "provenance": []
  },
  "kernelspec": {
   "display_name": "Python 3",
   "language": "python",
   "name": "python3"
  },
  "language_info": {
   "codemirror_mode": {
    "name": "ipython",
    "version": 3
   },
   "file_extension": ".py",
   "mimetype": "text/x-python",
   "name": "python",
   "nbconvert_exporter": "python",
   "pygments_lexer": "ipython3",
   "version": "3.8.2"
  },
  "widgets": {
   "application/vnd.jupyter.widget-state+json": {
    "09d3427a7c504e8aac6a995668fc74e3": {
     "model_module": "@jupyter-widgets/base",
     "model_name": "LayoutModel",
     "state": {
      "_model_module": "@jupyter-widgets/base",
      "_model_module_version": "1.2.0",
      "_model_name": "LayoutModel",
      "_view_count": null,
      "_view_module": "@jupyter-widgets/base",
      "_view_module_version": "1.2.0",
      "_view_name": "LayoutView",
      "align_content": null,
      "align_items": null,
      "align_self": null,
      "border": null,
      "bottom": null,
      "display": null,
      "flex": null,
      "flex_flow": null,
      "grid_area": null,
      "grid_auto_columns": null,
      "grid_auto_flow": null,
      "grid_auto_rows": null,
      "grid_column": null,
      "grid_gap": null,
      "grid_row": null,
      "grid_template_areas": null,
      "grid_template_columns": null,
      "grid_template_rows": null,
      "height": null,
      "justify_content": null,
      "justify_items": null,
      "left": null,
      "margin": null,
      "max_height": null,
      "max_width": null,
      "min_height": null,
      "min_width": null,
      "object_fit": null,
      "object_position": null,
      "order": null,
      "overflow": null,
      "overflow_x": null,
      "overflow_y": null,
      "padding": null,
      "right": null,
      "top": null,
      "visibility": null,
      "width": null
     }
    },
    "3b9b3adfbf8f4058bb66f9b049bdec8e": {
     "model_module": "@jupyter-widgets/base",
     "model_name": "LayoutModel",
     "state": {
      "_model_module": "@jupyter-widgets/base",
      "_model_module_version": "1.2.0",
      "_model_name": "LayoutModel",
      "_view_count": null,
      "_view_module": "@jupyter-widgets/base",
      "_view_module_version": "1.2.0",
      "_view_name": "LayoutView",
      "align_content": null,
      "align_items": null,
      "align_self": null,
      "border": null,
      "bottom": null,
      "display": null,
      "flex": null,
      "flex_flow": null,
      "grid_area": null,
      "grid_auto_columns": null,
      "grid_auto_flow": null,
      "grid_auto_rows": null,
      "grid_column": null,
      "grid_gap": null,
      "grid_row": null,
      "grid_template_areas": null,
      "grid_template_columns": null,
      "grid_template_rows": null,
      "height": null,
      "justify_content": null,
      "justify_items": null,
      "left": null,
      "margin": null,
      "max_height": null,
      "max_width": null,
      "min_height": null,
      "min_width": null,
      "object_fit": null,
      "object_position": null,
      "order": null,
      "overflow": null,
      "overflow_x": null,
      "overflow_y": null,
      "padding": null,
      "right": null,
      "top": null,
      "visibility": null,
      "width": null
     }
    },
    "3e18f2d1e61948c3a49cdf46ebee9229": {
     "model_module": "@jupyter-widgets/output",
     "model_name": "OutputModel",
     "state": {
      "_dom_classes": [],
      "_model_module": "@jupyter-widgets/output",
      "_model_module_version": "1.0.0",
      "_model_name": "OutputModel",
      "_view_count": null,
      "_view_module": "@jupyter-widgets/output",
      "_view_module_version": "1.0.0",
      "_view_name": "OutputView",
      "layout": "IPY_MODEL_09d3427a7c504e8aac6a995668fc74e3",
      "msg_id": "",
      "outputs": []
     }
    },
    "739a449956df446b94643fea44880753": {
     "model_module": "@jupyter-widgets/controls",
     "model_name": "DescriptionStyleModel",
     "state": {
      "_model_module": "@jupyter-widgets/controls",
      "_model_module_version": "1.5.0",
      "_model_name": "DescriptionStyleModel",
      "_view_count": null,
      "_view_module": "@jupyter-widgets/base",
      "_view_module_version": "1.2.0",
      "_view_name": "StyleView",
      "description_width": ""
     }
    },
    "73a27bead6b6497f8708f7091e9d2e64": {
     "model_module": "@jupyter-widgets/controls",
     "model_name": "VBoxModel",
     "state": {
      "_dom_classes": [
       "widget-interact"
      ],
      "_model_module": "@jupyter-widgets/controls",
      "_model_module_version": "1.5.0",
      "_model_name": "VBoxModel",
      "_view_count": null,
      "_view_module": "@jupyter-widgets/controls",
      "_view_module_version": "1.5.0",
      "_view_name": "VBoxView",
      "box_style": "",
      "children": [
       "IPY_MODEL_f95c63d02db642839cacdf2dfde637ba",
       "IPY_MODEL_3e18f2d1e61948c3a49cdf46ebee9229"
      ],
      "layout": "IPY_MODEL_3b9b3adfbf8f4058bb66f9b049bdec8e"
     }
    },
    "89f46d8760ae4024b548299b62ba9250": {
     "model_module": "@jupyter-widgets/base",
     "model_name": "LayoutModel",
     "state": {
      "_model_module": "@jupyter-widgets/base",
      "_model_module_version": "1.2.0",
      "_model_name": "LayoutModel",
      "_view_count": null,
      "_view_module": "@jupyter-widgets/base",
      "_view_module_version": "1.2.0",
      "_view_name": "LayoutView",
      "align_content": null,
      "align_items": null,
      "align_self": null,
      "border": null,
      "bottom": null,
      "display": null,
      "flex": null,
      "flex_flow": null,
      "grid_area": null,
      "grid_auto_columns": null,
      "grid_auto_flow": null,
      "grid_auto_rows": null,
      "grid_column": null,
      "grid_gap": null,
      "grid_row": null,
      "grid_template_areas": null,
      "grid_template_columns": null,
      "grid_template_rows": null,
      "height": null,
      "justify_content": null,
      "justify_items": null,
      "left": null,
      "margin": null,
      "max_height": null,
      "max_width": null,
      "min_height": null,
      "min_width": null,
      "object_fit": null,
      "object_position": null,
      "order": null,
      "overflow": null,
      "overflow_x": null,
      "overflow_y": null,
      "padding": null,
      "right": null,
      "top": null,
      "visibility": null,
      "width": null
     }
    },
    "f95c63d02db642839cacdf2dfde637ba": {
     "model_module": "@jupyter-widgets/controls",
     "model_name": "DropdownModel",
     "state": {
      "_dom_classes": [],
      "_model_module": "@jupyter-widgets/controls",
      "_model_module_version": "1.5.0",
      "_model_name": "DropdownModel",
      "_options_labels": [
       "2017",
       "2018",
       "2019"
      ],
      "_view_count": null,
      "_view_module": "@jupyter-widgets/controls",
      "_view_module_version": "1.5.0",
      "_view_name": "DropdownView",
      "description": "Year",
      "description_tooltip": null,
      "disabled": false,
      "index": 0,
      "layout": "IPY_MODEL_89f46d8760ae4024b548299b62ba9250",
      "style": "IPY_MODEL_739a449956df446b94643fea44880753"
     }
    }
   }
  }
 },
 "nbformat": 4,
 "nbformat_minor": 1
}
