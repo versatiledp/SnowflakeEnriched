{
 "cells": [
  {
   "cell_type": "markdown",
   "metadata": {
    "id": "zwYGdEdL0utp"
   },
   "source": [
    "# **Enrollment by Geo location**\n"
   ]
  },
  {
   "cell_type": "code",
   "execution_count": null,
   "metadata": {
    "id": "ATXnRNk74J7w"
   },
   "outputs": [],
   "source": [
    "pip install snowflake-connector-python==2.3.6 > /dev/null"
   ]
  },
  {
   "cell_type": "code",
   "execution_count": null,
   "metadata": {
    "colab": {
     "base_uri": "https://localhost:8080/"
    },
    "id": "vpih2QvP0-63",
    "outputId": "851f8eb2-aa6b-49ca-be78-b51bb445c616"
   },
   "outputs": [
    {
     "name": "stdout",
     "output_type": "stream",
     "text": [
      "Enter Snowflake account name:··········\n",
      "Enter Snowflake user name:··········\n",
      "Enter Snowflake password:··········\n"
     ]
    }
   ],
   "source": [
    "#read required information to connect to Snowflake database\n",
    "from getpass import getpass\n",
    "accountName = getpass('Enter Snowflake account name:')\n",
    "userName = getpass('Enter Snowflake user name:')\n",
    "password = getpass('Enter Snowflake password:')\n",
    "\n",
    "databaseName = 'ipeds' #@param {type:\"string\"}\n",
    "sourceSchema='Public'#@param {type:\"string\"} \n",
    "warehouseName = 'COMPUTE_WH'#@param{type:\"string\"}\n"
   ]
  },
  {
   "cell_type": "code",
   "execution_count": null,
   "metadata": {
    "id": "cfW6BWai2Rgv"
   },
   "outputs": [],
   "source": [
    "# Get data from snowflake\n",
    "import snowflake.connector\n",
    "import pandas as pd\n",
    "from __future__ import print_function\n",
    "from ipywidgets import interactive\n",
    "\n",
    "import ipywidgets as widgets\n",
    "\n",
    "# Gets the version\n",
    "ctx = snowflake.connector.connect(\n",
    "    user=userName,\n",
    "    password=password,\n",
    "    account=accountName,\n",
    "    database=databaseName,\n",
    "    warehouse=warehouseName    \n",
    "    )\n",
    "cs = ctx.cursor()\n",
    "\n",
    "try:\n",
    "  sql = \"\"\"\n",
    "  WITH CTE_ENROLLMENT AS\n",
    "  (\n",
    "  SELECT   A.ACADEMICYEAR AS YEAR \n",
    "          ,B.STATE AS STATE \n",
    "          ,SUM(A.TOTALMEN+A.TOTALWOMEN) AS ENROLLMENT \n",
    "    FROM ENROLLMENT A\n",
    "    INNER JOIN ACADEMICINSTITUTION B \n",
    "      ON A.INSTITUTIONIDENTIFIER = B.INSTITUTIONIDENTIFIER\n",
    "  GROUP BY YEAR, STATE\n",
    "  )\n",
    "  SELECT YEAR, STATE, ENROLLMENT\n",
    "    ,ROUND(100.00 * (RATIO_TO_REPORT(ENROLLMENT) OVER \\\n",
    "            (PARTITION BY YEAR)),2) AS PctOfTotal\n",
    "  FROM CTE_ENROLLMENT\n",
    "  ORDER BY YEAR, STATE; \n",
    "        \"\"\"\n",
    "  #print (sql)\n",
    "  cs.execute(sql)\n",
    "  records = cs.fetchall()\n",
    "  names = [x[0] for x in cs.description]\n",
    "  df = pd.DataFrame(records,columns = names)\n",
    "finally:\n",
    "    cs.close()\n",
    "    ctx.close()"
   ]
  },
  {
   "cell_type": "code",
   "execution_count": null,
   "metadata": {
    "id": "3Yp4dq_Rj-Uw"
   },
   "outputs": [],
   "source": [
    "# Add formatted column to panda DF to be used for hoverinfo in the map\n",
    "df[\"ENROL\"] = df[\"ENROLLMENT\"].apply(lambda x: \"{:,}\".format(x))"
   ]
  },
  {
   "cell_type": "code",
   "execution_count": null,
   "metadata": {},
   "outputs": [],
   "source": [
    "# Create the map and render\n",
    "import plotly.graph_objects as go\n",
    "import pandas as pd\n",
    "from ipywidgets import interact, interactive, fixed, interact_manual\n",
    "\n",
    "def color_million_red(value):\n",
    "  if value > 1000000:\n",
    "    color = 'red'\n",
    "  else:\n",
    "    color = 'black'\n",
    "  return 'color: %s' % color\n",
    "\n",
    "def plot_graph(Year):\n",
    "  newdf = df[(df.YEAR == Year)]\n",
    "\n",
    "  fig = go.Figure(data=go.Choropleth(\n",
    "    locations=newdf['STATE'], # Spatial coordinates\n",
    "    z = newdf['ENROLLMENT'].astype(float), # Data to be color-coded\n",
    "    # set of locations match entries in `locations`\n",
    "    locationmode = 'USA-states',\n",
    "    colorscale = 'Earth',\n",
    "    colorbar_title = \"Millions\",\n",
    "    #text = newdf[\"PCTOFTOTAL\"],\n",
    "    text = newdf['STATE'] + '<br>' + 'Enrollment : ' \\\n",
    "                          + newdf['ENROL'] \\\n",
    "                          + '<br>' + 'Percent of enrollment : ' \\\n",
    "                          + newdf['PCTOFTOTAL'].astype(str) + ' %',\n",
    "    hoverinfo=\"text\",\n",
    "  ))\n",
    "\n",
    "  fig.update_layout(\n",
    "    title_text = '<b>' + str(Year)\\\n",
    "    + ' Institution Enrollment by State</b>\\\n",
    "    <br>(Hover for breakdown)',\n",
    "    geo_scope='usa', # limite map scope to USA\n",
    "    autosize=False,\n",
    "    margin={\"r\":0,\"t\":80,\"l\":0,\"b\":0},\n",
    "  )\n",
    "\n",
    "  fig.show()\n",
    "\n",
    "interact(plot_graph, Year=df.YEAR.unique());"
   ]
  }
 ],
 "metadata": {
  "colab": {
   "collapsed_sections": [],
   "name": "Enrollment_by_Geo.ipynb",
   "provenance": []
  },
  "kernelspec": {
   "display_name": "Python 3",
   "language": "python",
   "name": "python3"
  },
  "language_info": {
   "codemirror_mode": {
    "name": "ipython",
    "version": 3
   },
   "file_extension": ".py",
   "mimetype": "text/x-python",
   "name": "python",
   "nbconvert_exporter": "python",
   "pygments_lexer": "ipython3",
   "version": "3.8.2"
  },
  "widgets": {
   "application/vnd.jupyter.widget-state+json": {
    "68d0e30261174579ae4d1517248934fa": {
     "model_module": "@jupyter-widgets/controls",
     "model_name": "VBoxModel",
     "state": {
      "_dom_classes": [
       "widget-interact"
      ],
      "_model_module": "@jupyter-widgets/controls",
      "_model_module_version": "1.5.0",
      "_model_name": "VBoxModel",
      "_view_count": null,
      "_view_module": "@jupyter-widgets/controls",
      "_view_module_version": "1.5.0",
      "_view_name": "VBoxView",
      "box_style": "",
      "children": [
       "IPY_MODEL_e64cfa35453c4af5bc1414b5af8d1af0",
       "IPY_MODEL_efcd612784c24eb38dd73d1cde0ab7b7"
      ],
      "layout": "IPY_MODEL_aa579368bbc043338355072cad57441e"
     }
    },
    "9cec1ad6253846559fc62c268222d424": {
     "model_module": "@jupyter-widgets/base",
     "model_name": "LayoutModel",
     "state": {
      "_model_module": "@jupyter-widgets/base",
      "_model_module_version": "1.2.0",
      "_model_name": "LayoutModel",
      "_view_count": null,
      "_view_module": "@jupyter-widgets/base",
      "_view_module_version": "1.2.0",
      "_view_name": "LayoutView",
      "align_content": null,
      "align_items": null,
      "align_self": null,
      "border": null,
      "bottom": null,
      "display": null,
      "flex": null,
      "flex_flow": null,
      "grid_area": null,
      "grid_auto_columns": null,
      "grid_auto_flow": null,
      "grid_auto_rows": null,
      "grid_column": null,
      "grid_gap": null,
      "grid_row": null,
      "grid_template_areas": null,
      "grid_template_columns": null,
      "grid_template_rows": null,
      "height": null,
      "justify_content": null,
      "justify_items": null,
      "left": null,
      "margin": null,
      "max_height": null,
      "max_width": null,
      "min_height": null,
      "min_width": null,
      "object_fit": null,
      "object_position": null,
      "order": null,
      "overflow": null,
      "overflow_x": null,
      "overflow_y": null,
      "padding": null,
      "right": null,
      "top": null,
      "visibility": null,
      "width": null
     }
    },
    "9f9f3fc4a4634edfac167540311e4308": {
     "model_module": "@jupyter-widgets/base",
     "model_name": "LayoutModel",
     "state": {
      "_model_module": "@jupyter-widgets/base",
      "_model_module_version": "1.2.0",
      "_model_name": "LayoutModel",
      "_view_count": null,
      "_view_module": "@jupyter-widgets/base",
      "_view_module_version": "1.2.0",
      "_view_name": "LayoutView",
      "align_content": null,
      "align_items": null,
      "align_self": null,
      "border": null,
      "bottom": null,
      "display": null,
      "flex": null,
      "flex_flow": null,
      "grid_area": null,
      "grid_auto_columns": null,
      "grid_auto_flow": null,
      "grid_auto_rows": null,
      "grid_column": null,
      "grid_gap": null,
      "grid_row": null,
      "grid_template_areas": null,
      "grid_template_columns": null,
      "grid_template_rows": null,
      "height": null,
      "justify_content": null,
      "justify_items": null,
      "left": null,
      "margin": null,
      "max_height": null,
      "max_width": null,
      "min_height": null,
      "min_width": null,
      "object_fit": null,
      "object_position": null,
      "order": null,
      "overflow": null,
      "overflow_x": null,
      "overflow_y": null,
      "padding": null,
      "right": null,
      "top": null,
      "visibility": null,
      "width": null
     }
    },
    "aa579368bbc043338355072cad57441e": {
     "model_module": "@jupyter-widgets/base",
     "model_name": "LayoutModel",
     "state": {
      "_model_module": "@jupyter-widgets/base",
      "_model_module_version": "1.2.0",
      "_model_name": "LayoutModel",
      "_view_count": null,
      "_view_module": "@jupyter-widgets/base",
      "_view_module_version": "1.2.0",
      "_view_name": "LayoutView",
      "align_content": null,
      "align_items": null,
      "align_self": null,
      "border": null,
      "bottom": null,
      "display": null,
      "flex": null,
      "flex_flow": null,
      "grid_area": null,
      "grid_auto_columns": null,
      "grid_auto_flow": null,
      "grid_auto_rows": null,
      "grid_column": null,
      "grid_gap": null,
      "grid_row": null,
      "grid_template_areas": null,
      "grid_template_columns": null,
      "grid_template_rows": null,
      "height": null,
      "justify_content": null,
      "justify_items": null,
      "left": null,
      "margin": null,
      "max_height": null,
      "max_width": null,
      "min_height": null,
      "min_width": null,
      "object_fit": null,
      "object_position": null,
      "order": null,
      "overflow": null,
      "overflow_x": null,
      "overflow_y": null,
      "padding": null,
      "right": null,
      "top": null,
      "visibility": null,
      "width": null
     }
    },
    "aebf3cc3bd4644de8fbc675ac14061c2": {
     "model_module": "@jupyter-widgets/controls",
     "model_name": "DescriptionStyleModel",
     "state": {
      "_model_module": "@jupyter-widgets/controls",
      "_model_module_version": "1.5.0",
      "_model_name": "DescriptionStyleModel",
      "_view_count": null,
      "_view_module": "@jupyter-widgets/base",
      "_view_module_version": "1.2.0",
      "_view_name": "StyleView",
      "description_width": ""
     }
    },
    "e64cfa35453c4af5bc1414b5af8d1af0": {
     "model_module": "@jupyter-widgets/controls",
     "model_name": "DropdownModel",
     "state": {
      "_dom_classes": [],
      "_model_module": "@jupyter-widgets/controls",
      "_model_module_version": "1.5.0",
      "_model_name": "DropdownModel",
      "_options_labels": [
       "2017",
       "2018",
       "2019"
      ],
      "_view_count": null,
      "_view_module": "@jupyter-widgets/controls",
      "_view_module_version": "1.5.0",
      "_view_name": "DropdownView",
      "description": "Year",
      "description_tooltip": null,
      "disabled": false,
      "index": 0,
      "layout": "IPY_MODEL_9f9f3fc4a4634edfac167540311e4308",
      "style": "IPY_MODEL_aebf3cc3bd4644de8fbc675ac14061c2"
     }
    },
    "efcd612784c24eb38dd73d1cde0ab7b7": {
     "model_module": "@jupyter-widgets/output",
     "model_name": "OutputModel",
     "state": {
      "_dom_classes": [],
      "_model_module": "@jupyter-widgets/output",
      "_model_module_version": "1.0.0",
      "_model_name": "OutputModel",
      "_view_count": null,
      "_view_module": "@jupyter-widgets/output",
      "_view_module_version": "1.0.0",
      "_view_name": "OutputView",
      "layout": "IPY_MODEL_9cec1ad6253846559fc62c268222d424",
      "msg_id": "",
      "outputs": [
       {
        "metadata": {
         "tags": []
        },
        "output_type": "display_data",
        "text/html": "<html>\n<head><meta charset=\"utf-8\" /></head>\n<body>\n    <div>\n            <script src=\"https://cdnjs.cloudflare.com/ajax/libs/mathjax/2.7.5/MathJax.js?config=TeX-AMS-MML_SVG\"></script><script type=\"text/javascript\">if (window.MathJax) {MathJax.Hub.Config({SVG: {font: \"STIX-Web\"}});}</script>\n                <script type=\"text/javascript\">window.PlotlyConfig = {MathJaxConfig: 'local'};</script>\n        <script src=\"https://cdn.plot.ly/plotly-latest.min.js\"></script>    \n            <div id=\"40024cbe-2728-43ea-87ec-5e76ab46da4c\" class=\"plotly-graph-div\" style=\"height:525px; width:100%;\"></div>\n            <script type=\"text/javascript\">\n                \n                    window.PLOTLYENV=window.PLOTLYENV || {};\n                    \n                if (document.getElementById(\"40024cbe-2728-43ea-87ec-5e76ab46da4c\")) {\n                    Plotly.newPlot(\n                        '40024cbe-2728-43ea-87ec-5e76ab46da4c',\n                        [{\"colorbar\": {\"title\": {\"text\": \"Millions\"}}, \"colorscale\": [[0.0, \"rgb(161, 105, 40)\"], [0.16666666666666666, \"rgb(189, 146, 90)\"], [0.3333333333333333, \"rgb(214, 189, 141)\"], [0.5, \"rgb(237, 234, 194)\"], [0.6666666666666666, \"rgb(181, 200, 184)\"], [0.8333333333333334, \"rgb(121, 167, 172)\"], [1.0, \"rgb(40, 135, 161)\"]], \"hoverinfo\": \"text\", \"locationmode\": \"USA-states\", \"locations\": [\"AK\", \"AL\", \"AR\", \"AS\", \"AZ\", \"CA\", \"CO\", \"CT\", \"DC\", \"DE\", \"FL\", \"FM\", \"GA\", \"GU\", \"HI\", \"IA\", \"ID\", \"IL\", \"IN\", \"KS\", \"KY\", \"LA\", \"MA\", \"MD\", \"ME\", \"MH\", \"MI\", \"MN\", \"MO\", \"MP\", \"MS\", \"MT\", \"NC\", \"ND\", \"NE\", \"NH\", \"NJ\", \"NM\", \"NV\", \"NY\", \"OH\", \"OK\", \"OR\", \"PA\", \"PR\", \"PW\", \"RI\", \"SC\", \"SD\", \"TN\", \"TX\", \"UT\", \"VA\", \"VI\", \"VT\", \"WA\", \"WI\", \"WV\", \"WY\"], \"text\": [\"AK<br>Enrollment : 92,938<br>Percent of enrollment : 0.17 %\", \"AL<br>Enrollment : 790,574<br>Percent of enrollment : 1.46 %\", \"AR<br>Enrollment : 423,348<br>Percent of enrollment : 0.78 %\", \"AS<br>Enrollment : 3,162<br>Percent of enrollment : 0.01 %\", \"AZ<br>Enrollment : 1,807,108<br>Percent of enrollment : 3.34 %\", \"CA<br>Enrollment : 7,469,360<br>Percent of enrollment : 13.79 %\", \"CO<br>Enrollment : 1,006,822<br>Percent of enrollment : 1.86 %\", \"CT<br>Enrollment : 531,234<br>Percent of enrollment : 0.98 %\", \"DC<br>Enrollment : 225,102<br>Percent of enrollment : 0.42 %\", \"DE<br>Enrollment : 154,144<br>Percent of enrollment : 0.28 %\", \"FL<br>Enrollment : 3,063,962<br>Percent of enrollment : 5.66 %\", \"FM<br>Enrollment : 5,408<br>Percent of enrollment : 0.01 %\", \"GA<br>Enrollment : 1,376,996<br>Percent of enrollment : 2.54 %\", \"GU<br>Enrollment : 14,900<br>Percent of enrollment : 0.03 %\", \"HI<br>Enrollment : 170,962<br>Percent of enrollment : 0.32 %\", \"IA<br>Enrollment : 715,588<br>Percent of enrollment : 1.32 %\", \"ID<br>Enrollment : 366,850<br>Percent of enrollment : 0.68 %\", \"IL<br>Enrollment : 2,257,522<br>Percent of enrollment : 4.17 %\", \"IN<br>Enrollment : 1,151,590<br>Percent of enrollment : 2.13 %\", \"KS<br>Enrollment : 596,530<br>Percent of enrollment : 1.10 %\", \"KY<br>Enrollment : 655,858<br>Percent of enrollment : 1.21 %\", \"LA<br>Enrollment : 637,462<br>Percent of enrollment : 1.18 %\", \"MA<br>Enrollment : 1,289,594<br>Percent of enrollment : 2.38 %\", \"MD<br>Enrollment : 976,092<br>Percent of enrollment : 1.80 %\", \"ME<br>Enrollment : 192,312<br>Percent of enrollment : 0.36 %\", \"MH<br>Enrollment : 2,658<br>Percent of enrollment : 0.00 %\", \"MI<br>Enrollment : 1,481,076<br>Percent of enrollment : 2.73 %\", \"MN<br>Enrollment : 1,154,828<br>Percent of enrollment : 2.13 %\", \"MO<br>Enrollment : 1,029,190<br>Percent of enrollment : 1.90 %\", \"MP<br>Enrollment : 2,712<br>Percent of enrollment : 0.01 %\", \"MS<br>Enrollment : 445,170<br>Percent of enrollment : 0.82 %\", \"MT<br>Enrollment : 127,422<br>Percent of enrollment : 0.24 %\", \"NC<br>Enrollment : 1,435,700<br>Percent of enrollment : 2.65 %\", \"ND<br>Enrollment : 133,830<br>Percent of enrollment : 0.25 %\", \"NE<br>Enrollment : 359,200<br>Percent of enrollment : 0.66 %\", \"NH<br>Enrollment : 399,354<br>Percent of enrollment : 0.74 %\", \"NJ<br>Enrollment : 1,122,016<br>Percent of enrollment : 2.07 %\", \"NM<br>Enrollment : 370,040<br>Percent of enrollment : 0.68 %\", \"NV<br>Enrollment : 314,242<br>Percent of enrollment : 0.58 %\", \"NY<br>Enrollment : 3,274,102<br>Percent of enrollment : 6.04 %\", \"OH<br>Enrollment : 1,731,586<br>Percent of enrollment : 3.20 %\", \"OK<br>Enrollment : 575,760<br>Percent of enrollment : 1.06 %\", \"OR<br>Enrollment : 690,314<br>Percent of enrollment : 1.27 %\", \"PA<br>Enrollment : 1,866,998<br>Percent of enrollment : 3.45 %\", \"PR<br>Enrollment : 571,978<br>Percent of enrollment : 1.06 %\", \"PW<br>Enrollment : 1,498<br>Percent of enrollment : 0.00 %\", \"RI<br>Enrollment : 199,526<br>Percent of enrollment : 0.37 %\", \"SC<br>Enrollment : 619,764<br>Percent of enrollment : 1.14 %\", \"SD<br>Enrollment : 144,610<br>Percent of enrollment : 0.27 %\", \"TN<br>Enrollment : 832,956<br>Percent of enrollment : 1.54 %\", \"TX<br>Enrollment : 4,434,526<br>Percent of enrollment : 8.19 %\", \"UT<br>Enrollment : 876,730<br>Percent of enrollment : 1.62 %\", \"VA<br>Enrollment : 1,451,170<br>Percent of enrollment : 2.68 %\", \"VI<br>Enrollment : 5,708<br>Percent of enrollment : 0.01 %\", \"VT<br>Enrollment : 121,092<br>Percent of enrollment : 0.22 %\", \"WA<br>Enrollment : 1,024,184<br>Percent of enrollment : 1.89 %\", \"WI<br>Enrollment : 883,440<br>Percent of enrollment : 1.63 %\", \"WV<br>Enrollment : 427,932<br>Percent of enrollment : 0.79 %\", \"WY<br>Enrollment : 88,584<br>Percent of enrollment : 0.16 %\"], \"type\": \"choropleth\", \"z\": [92938.0, 790574.0, 423348.0, 3162.0, 1807108.0, 7469360.0, 1006822.0, 531234.0, 225102.0, 154144.0, 3063962.0, 5408.0, 1376996.0, 14900.0, 170962.0, 715588.0, 366850.0, 2257522.0, 1151590.0, 596530.0, 655858.0, 637462.0, 1289594.0, 976092.0, 192312.0, 2658.0, 1481076.0, 1154828.0, 1029190.0, 2712.0, 445170.0, 127422.0, 1435700.0, 133830.0, 359200.0, 399354.0, 1122016.0, 370040.0, 314242.0, 3274102.0, 1731586.0, 575760.0, 690314.0, 1866998.0, 571978.0, 1498.0, 199526.0, 619764.0, 144610.0, 832956.0, 4434526.0, 876730.0, 1451170.0, 5708.0, 121092.0, 1024184.0, 883440.0, 427932.0, 88584.0]}],\n                        {\"autosize\": false, \"geo\": {\"scope\": \"usa\"}, \"margin\": {\"b\": 0, \"l\": 0, \"r\": 0, \"t\": 80}, \"template\": {\"data\": {\"bar\": [{\"error_x\": {\"color\": \"#2a3f5f\"}, \"error_y\": {\"color\": \"#2a3f5f\"}, \"marker\": {\"line\": {\"color\": \"#E5ECF6\", \"width\": 0.5}}, \"type\": \"bar\"}], \"barpolar\": [{\"marker\": {\"line\": {\"color\": \"#E5ECF6\", \"width\": 0.5}}, \"type\": \"barpolar\"}], \"carpet\": [{\"aaxis\": {\"endlinecolor\": \"#2a3f5f\", \"gridcolor\": \"white\", \"linecolor\": \"white\", \"minorgridcolor\": \"white\", \"startlinecolor\": \"#2a3f5f\"}, \"baxis\": {\"endlinecolor\": \"#2a3f5f\", \"gridcolor\": \"white\", \"linecolor\": \"white\", \"minorgridcolor\": \"white\", \"startlinecolor\": \"#2a3f5f\"}, \"type\": \"carpet\"}], \"choropleth\": [{\"colorbar\": {\"outlinewidth\": 0, \"ticks\": \"\"}, \"type\": \"choropleth\"}], \"contour\": [{\"colorbar\": {\"outlinewidth\": 0, \"ticks\": \"\"}, \"colorscale\": [[0.0, \"#0d0887\"], [0.1111111111111111, \"#46039f\"], [0.2222222222222222, \"#7201a8\"], [0.3333333333333333, \"#9c179e\"], [0.4444444444444444, \"#bd3786\"], [0.5555555555555556, \"#d8576b\"], [0.6666666666666666, \"#ed7953\"], [0.7777777777777778, \"#fb9f3a\"], [0.8888888888888888, \"#fdca26\"], [1.0, \"#f0f921\"]], \"type\": \"contour\"}], \"contourcarpet\": [{\"colorbar\": {\"outlinewidth\": 0, \"ticks\": \"\"}, \"type\": \"contourcarpet\"}], \"heatmap\": [{\"colorbar\": {\"outlinewidth\": 0, \"ticks\": \"\"}, \"colorscale\": [[0.0, \"#0d0887\"], [0.1111111111111111, \"#46039f\"], [0.2222222222222222, \"#7201a8\"], [0.3333333333333333, \"#9c179e\"], [0.4444444444444444, \"#bd3786\"], [0.5555555555555556, \"#d8576b\"], [0.6666666666666666, \"#ed7953\"], [0.7777777777777778, \"#fb9f3a\"], [0.8888888888888888, \"#fdca26\"], [1.0, \"#f0f921\"]], \"type\": \"heatmap\"}], \"heatmapgl\": [{\"colorbar\": {\"outlinewidth\": 0, \"ticks\": \"\"}, \"colorscale\": [[0.0, \"#0d0887\"], [0.1111111111111111, \"#46039f\"], [0.2222222222222222, \"#7201a8\"], [0.3333333333333333, \"#9c179e\"], [0.4444444444444444, \"#bd3786\"], [0.5555555555555556, \"#d8576b\"], [0.6666666666666666, \"#ed7953\"], [0.7777777777777778, \"#fb9f3a\"], [0.8888888888888888, \"#fdca26\"], [1.0, \"#f0f921\"]], \"type\": \"heatmapgl\"}], \"histogram\": [{\"marker\": {\"colorbar\": {\"outlinewidth\": 0, \"ticks\": \"\"}}, \"type\": \"histogram\"}], \"histogram2d\": [{\"colorbar\": {\"outlinewidth\": 0, \"ticks\": \"\"}, \"colorscale\": [[0.0, \"#0d0887\"], [0.1111111111111111, \"#46039f\"], [0.2222222222222222, \"#7201a8\"], [0.3333333333333333, \"#9c179e\"], [0.4444444444444444, \"#bd3786\"], [0.5555555555555556, \"#d8576b\"], [0.6666666666666666, \"#ed7953\"], [0.7777777777777778, \"#fb9f3a\"], [0.8888888888888888, \"#fdca26\"], [1.0, \"#f0f921\"]], \"type\": \"histogram2d\"}], \"histogram2dcontour\": [{\"colorbar\": {\"outlinewidth\": 0, \"ticks\": \"\"}, \"colorscale\": [[0.0, \"#0d0887\"], [0.1111111111111111, \"#46039f\"], [0.2222222222222222, \"#7201a8\"], [0.3333333333333333, \"#9c179e\"], [0.4444444444444444, \"#bd3786\"], [0.5555555555555556, \"#d8576b\"], [0.6666666666666666, \"#ed7953\"], [0.7777777777777778, \"#fb9f3a\"], [0.8888888888888888, \"#fdca26\"], [1.0, \"#f0f921\"]], \"type\": \"histogram2dcontour\"}], \"mesh3d\": [{\"colorbar\": {\"outlinewidth\": 0, \"ticks\": \"\"}, \"type\": \"mesh3d\"}], \"parcoords\": [{\"line\": {\"colorbar\": {\"outlinewidth\": 0, \"ticks\": \"\"}}, \"type\": \"parcoords\"}], \"pie\": [{\"automargin\": true, \"type\": \"pie\"}], \"scatter\": [{\"marker\": {\"colorbar\": {\"outlinewidth\": 0, \"ticks\": \"\"}}, \"type\": \"scatter\"}], \"scatter3d\": [{\"line\": {\"colorbar\": {\"outlinewidth\": 0, \"ticks\": \"\"}}, \"marker\": {\"colorbar\": {\"outlinewidth\": 0, \"ticks\": \"\"}}, \"type\": \"scatter3d\"}], \"scattercarpet\": [{\"marker\": {\"colorbar\": {\"outlinewidth\": 0, \"ticks\": \"\"}}, \"type\": \"scattercarpet\"}], \"scattergeo\": [{\"marker\": {\"colorbar\": {\"outlinewidth\": 0, \"ticks\": \"\"}}, \"type\": \"scattergeo\"}], \"scattergl\": [{\"marker\": {\"colorbar\": {\"outlinewidth\": 0, \"ticks\": \"\"}}, \"type\": \"scattergl\"}], \"scattermapbox\": [{\"marker\": {\"colorbar\": {\"outlinewidth\": 0, \"ticks\": \"\"}}, \"type\": \"scattermapbox\"}], \"scatterpolar\": [{\"marker\": {\"colorbar\": {\"outlinewidth\": 0, \"ticks\": \"\"}}, \"type\": \"scatterpolar\"}], \"scatterpolargl\": [{\"marker\": {\"colorbar\": {\"outlinewidth\": 0, \"ticks\": \"\"}}, \"type\": \"scatterpolargl\"}], \"scatterternary\": [{\"marker\": {\"colorbar\": {\"outlinewidth\": 0, \"ticks\": \"\"}}, \"type\": \"scatterternary\"}], \"surface\": [{\"colorbar\": {\"outlinewidth\": 0, \"ticks\": \"\"}, \"colorscale\": [[0.0, \"#0d0887\"], [0.1111111111111111, \"#46039f\"], [0.2222222222222222, \"#7201a8\"], [0.3333333333333333, \"#9c179e\"], [0.4444444444444444, \"#bd3786\"], [0.5555555555555556, \"#d8576b\"], [0.6666666666666666, \"#ed7953\"], [0.7777777777777778, \"#fb9f3a\"], [0.8888888888888888, \"#fdca26\"], [1.0, \"#f0f921\"]], \"type\": \"surface\"}], \"table\": [{\"cells\": {\"fill\": {\"color\": \"#EBF0F8\"}, \"line\": {\"color\": \"white\"}}, \"header\": {\"fill\": {\"color\": \"#C8D4E3\"}, \"line\": {\"color\": \"white\"}}, \"type\": \"table\"}]}, \"layout\": {\"annotationdefaults\": {\"arrowcolor\": \"#2a3f5f\", \"arrowhead\": 0, \"arrowwidth\": 1}, \"coloraxis\": {\"colorbar\": {\"outlinewidth\": 0, \"ticks\": \"\"}}, \"colorscale\": {\"diverging\": [[0, \"#8e0152\"], [0.1, \"#c51b7d\"], [0.2, \"#de77ae\"], [0.3, \"#f1b6da\"], [0.4, \"#fde0ef\"], [0.5, \"#f7f7f7\"], [0.6, \"#e6f5d0\"], [0.7, \"#b8e186\"], [0.8, \"#7fbc41\"], [0.9, \"#4d9221\"], [1, \"#276419\"]], \"sequential\": [[0.0, \"#0d0887\"], [0.1111111111111111, \"#46039f\"], [0.2222222222222222, \"#7201a8\"], [0.3333333333333333, \"#9c179e\"], [0.4444444444444444, \"#bd3786\"], [0.5555555555555556, \"#d8576b\"], [0.6666666666666666, \"#ed7953\"], [0.7777777777777778, \"#fb9f3a\"], [0.8888888888888888, \"#fdca26\"], [1.0, \"#f0f921\"]], \"sequentialminus\": [[0.0, \"#0d0887\"], [0.1111111111111111, \"#46039f\"], [0.2222222222222222, \"#7201a8\"], [0.3333333333333333, \"#9c179e\"], [0.4444444444444444, \"#bd3786\"], [0.5555555555555556, \"#d8576b\"], [0.6666666666666666, \"#ed7953\"], [0.7777777777777778, \"#fb9f3a\"], [0.8888888888888888, \"#fdca26\"], [1.0, \"#f0f921\"]]}, \"colorway\": [\"#636efa\", \"#EF553B\", \"#00cc96\", \"#ab63fa\", \"#FFA15A\", \"#19d3f3\", \"#FF6692\", \"#B6E880\", \"#FF97FF\", \"#FECB52\"], \"font\": {\"color\": \"#2a3f5f\"}, \"geo\": {\"bgcolor\": \"white\", \"lakecolor\": \"white\", \"landcolor\": \"#E5ECF6\", \"showlakes\": true, \"showland\": true, \"subunitcolor\": \"white\"}, \"hoverlabel\": {\"align\": \"left\"}, \"hovermode\": \"closest\", \"mapbox\": {\"style\": \"light\"}, \"paper_bgcolor\": \"white\", \"plot_bgcolor\": \"#E5ECF6\", \"polar\": {\"angularaxis\": {\"gridcolor\": \"white\", \"linecolor\": \"white\", \"ticks\": \"\"}, \"bgcolor\": \"#E5ECF6\", \"radialaxis\": {\"gridcolor\": \"white\", \"linecolor\": \"white\", \"ticks\": \"\"}}, \"scene\": {\"xaxis\": {\"backgroundcolor\": \"#E5ECF6\", \"gridcolor\": \"white\", \"gridwidth\": 2, \"linecolor\": \"white\", \"showbackground\": true, \"ticks\": \"\", \"zerolinecolor\": \"white\"}, \"yaxis\": {\"backgroundcolor\": \"#E5ECF6\", \"gridcolor\": \"white\", \"gridwidth\": 2, \"linecolor\": \"white\", \"showbackground\": true, \"ticks\": \"\", \"zerolinecolor\": \"white\"}, \"zaxis\": {\"backgroundcolor\": \"#E5ECF6\", \"gridcolor\": \"white\", \"gridwidth\": 2, \"linecolor\": \"white\", \"showbackground\": true, \"ticks\": \"\", \"zerolinecolor\": \"white\"}}, \"shapedefaults\": {\"line\": {\"color\": \"#2a3f5f\"}}, \"ternary\": {\"aaxis\": {\"gridcolor\": \"white\", \"linecolor\": \"white\", \"ticks\": \"\"}, \"baxis\": {\"gridcolor\": \"white\", \"linecolor\": \"white\", \"ticks\": \"\"}, \"bgcolor\": \"#E5ECF6\", \"caxis\": {\"gridcolor\": \"white\", \"linecolor\": \"white\", \"ticks\": \"\"}}, \"title\": {\"x\": 0.05}, \"xaxis\": {\"automargin\": true, \"gridcolor\": \"white\", \"linecolor\": \"white\", \"ticks\": \"\", \"title\": {\"standoff\": 15}, \"zerolinecolor\": \"white\", \"zerolinewidth\": 2}, \"yaxis\": {\"automargin\": true, \"gridcolor\": \"white\", \"linecolor\": \"white\", \"ticks\": \"\", \"title\": {\"standoff\": 15}, \"zerolinecolor\": \"white\", \"zerolinewidth\": 2}}}, \"title\": {\"text\": \"<b>2017 Institution Enrollment by State</b>    <br>(Hover for breakdown)\"}},\n                        {\"responsive\": true}\n                    ).then(function(){\n                            \nvar gd = document.getElementById('40024cbe-2728-43ea-87ec-5e76ab46da4c');\nvar x = new MutationObserver(function (mutations, observer) {{\n        var display = window.getComputedStyle(gd).display;\n        if (!display || display === 'none') {{\n            console.log([gd, 'removed!']);\n            Plotly.purge(gd);\n            observer.disconnect();\n        }}\n}});\n\n// Listen for the removal of the full notebook cells\nvar notebookContainer = gd.closest('#notebook-container');\nif (notebookContainer) {{\n    x.observe(notebookContainer, {childList: true});\n}}\n\n// Listen for the clearing of the current output cell\nvar outputEl = gd.closest('.output');\nif (outputEl) {{\n    x.observe(outputEl, {childList: true});\n}}\n\n                        })\n                };\n                \n            </script>\n        </div>\n</body>\n</html>"
       }
      ]
     }
    }
   }
  }
 },
 "nbformat": 4,
 "nbformat_minor": 1
}
