{
 "cells": [
  {
   "cell_type": "code",
   "execution_count": null,
   "metadata": {
    "id": "ATXnRNk74J7w"
   },
   "outputs": [],
   "source": [
    "pip install snowflake-connector-python==2.3.6 > /dev/null"
   ]
  },
  {
   "cell_type": "code",
   "execution_count": null,
   "metadata": {
    "colab": {
     "base_uri": "https://localhost:8080/"
    },
    "id": "vpih2QvP0-63",
    "outputId": "9db42ed8-78ed-4428-cd09-f628fbbc9338"
   },
   "outputs": [
    {
     "name": "stdout",
     "output_type": "stream",
     "text": [
      "Enter Snowflake account name:··········\n",
      "Enter Snowflake user name:··········\n",
      "Enter Snowflake password:··········\n"
     ]
    }
   ],
   "source": [
    "#read required information to connect to Snowflake database\n",
    "from getpass import getpass\n",
    "accountName = getpass('Enter Snowflake account name:')\n",
    "userName = getpass('Enter Snowflake user name:')\n",
    "password = getpass('Enter Snowflake password:')\n",
    "\n",
    "databaseName = 'ipeds' #@param {type:\"string\"}\n",
    "sourceSchema='Public'#@param {type:\"string\"} \n",
    "warehouseName = 'COMPUTE_WH'#@param{type:\"string\"}\n"
   ]
  },
  {
   "cell_type": "code",
   "execution_count": null,
   "metadata": {
    "id": "cfW6BWai2Rgv"
   },
   "outputs": [],
   "source": [
    "# Source System to gather Statistics from\n",
    "import snowflake.connector\n",
    "import pandas as pd\n",
    "from __future__ import print_function\n",
    "from ipywidgets import interactive\n",
    "\n",
    "import ipywidgets as widgets\n",
    "\n",
    "# Gets the version\n",
    "ctx = snowflake.connector.connect(\n",
    "    user=userName,\n",
    "    password=password,\n",
    "    account=accountName,\n",
    "    database=databaseName,\n",
    "    warehouse=warehouseName    \n",
    "    )\n",
    "cs = ctx.cursor()\n",
    "\n",
    "try:\n",
    "  sql = \"\"\"\n",
    "  WITH CTE_Tution AS\n",
    "  (\n",
    "  SELECT   \n",
    "     A.ACADEMICYEAR  \n",
    "    ,A.INSTITUTIONIDENTIFIER AS ID\n",
    "    ,B.INSTITUTIONNAME AS NAME\n",
    "    ,B.STATE\n",
    "    ,SUM(A.INSTATEAVERAGETUITIONFULLTIMEUNDERGRADUATES) \n",
    "                        AS InStateTution\n",
    "    ,SUM(A.OUTOFSTATEAVERAGETUITIONFULLTIMEUNDERGRADUATES) \n",
    "                        AS OutOfStateTution\n",
    "    ,ROW_NUMBER() OVER (PARTITION BY A.ACADEMICYEAR \\\n",
    "              ORDER BY InStateTution DESC) AS MaxFeeCounter\n",
    "  FROM INSTITUTIONALCHARGE A\n",
    "  INNER JOIN ACADEMICINSTITUTION B \n",
    "    ON A.INSTITUTIONIDENTIFIER = B.INSTITUTIONIDENTIFIER\n",
    "  INNER JOIN INSTITUTIONCONTROL ICTR \n",
    "    ON ICTR.CODE = B.CONTROLOFINSTITUTION \n",
    "  WHERE UPPER(ICTR.DESCRIPTION) LIKE '%PUBLIC%' \n",
    "       AND B.DEGREEGRANTINGSTATUS = 1  \n",
    "  GROUP BY A.ACADEMICYEAR,ID,NAME,B.STATE\n",
    ")\n",
    "SELECT ACADEMICYEAR,\n",
    "        ID AS \"Institution ID\",\n",
    "        NAME \"Instituon Name\",\n",
    "        STATE \"State Code\",\n",
    "        InStateTution AS \"In State Tution($)\",\n",
    "        OutOfStateTution \"Out Of State Tution($)\" ,\n",
    "        MaxFeeCounter \"in-state-tution_index\"\n",
    "FROM CTE_Tution ;\n",
    "\"\"\"\n",
    "  #print (sql)\n",
    "  cs.execute(sql)\n",
    "  records = cs.fetchall()\n",
    "  names = [x[0] for x in cs.description]\n",
    "  df1 = pd.DataFrame(records,columns = names)\n",
    "finally:\n",
    "    cs.close()\n",
    "    ctx.close()"
   ]
  },
  {
   "cell_type": "code",
   "execution_count": null,
   "metadata": {},
   "outputs": [],
   "source": [
    "  # Select the year for report  \n",
    "  def f(Year):\n",
    "    return Year  \n",
    "  w = interactive(f,Year = df1.ACADEMICYEAR .unique());\n",
    "  display(w);"
   ]
  },
  {
   "cell_type": "code",
   "execution_count": null,
   "metadata": {},
   "outputs": [],
   "source": [
    "#Select number of institute to be displayed \n",
    "slider=widgets.IntSlider(\n",
    "    min=10,\n",
    "    max=40,\n",
    "    step=2,\n",
    "    description='Number of Institutiuons to be displayed \\\n",
    "        on the report ',\n",
    "    value=3\n",
    ")\n",
    "display(slider)"
   ]
  },
  {
   "cell_type": "code",
   "execution_count": null,
   "metadata": {
    "id": "Twi6nfxENmAa"
   },
   "outputs": [],
   "source": [
    "# Add formatting to dataset\n",
    "import warnings\n",
    "warnings.filterwarnings('ignore')\n",
    "dfFilter = df1[df1.ACADEMICYEAR.eq(w.result)]  \n",
    "pd.options.display.float_format = '${:,.2f}'.format \n",
    "dfFilter['In State Tution($)'] = dfFilter['In State \\\n",
    "Tution($)'].astype(float)\n",
    "dfFilter['Out Of State Tution($)'] = dfFilter['Out Of \\\n",
    "State Tution($)'].astype(float)\n",
    "#print(dfFilter)"
   ]
  },
  {
   "cell_type": "code",
   "execution_count": null,
   "metadata": {},
   "outputs": [],
   "source": [
    "# Apply fiter and display the results\n",
    "topn=slider.value \n",
    "dfFilter=dfFilter.nlargest(topn,'In State Tution($)')\n",
    "dfFilter=dfFilter.drop(columns=['in-state-tution_index'])\n",
    "dfFilter = dfFilter.rename(columns = \\\n",
    "                {\"ACADEMICYEAR\":\"Academic Year\"}) \n",
    "from IPython.display import HTML\n",
    "HTML(dfFilter.to_html(index=False))"
   ]
  }
 ],
 "metadata": {
  "colab": {
   "collapsed_sections": [],
   "name": "Public_college_tution_cost.ipynb",
   "provenance": []
  },
  "kernelspec": {
   "display_name": "Python 3",
   "language": "python",
   "name": "python3"
  },
  "language_info": {
   "codemirror_mode": {
    "name": "ipython",
    "version": 3
   },
   "file_extension": ".py",
   "mimetype": "text/x-python",
   "name": "python",
   "nbconvert_exporter": "python",
   "pygments_lexer": "ipython3",
   "version": "3.8.2"
  },
  "widgets": {
   "application/vnd.jupyter.widget-state+json": {
    "50d55e6e1ae94d14bdb10922539c35e8": {
     "model_module": "@jupyter-widgets/output",
     "model_name": "OutputModel",
     "state": {
      "_dom_classes": [],
      "_model_module": "@jupyter-widgets/output",
      "_model_module_version": "1.0.0",
      "_model_name": "OutputModel",
      "_view_count": null,
      "_view_module": "@jupyter-widgets/output",
      "_view_module_version": "1.0.0",
      "_view_name": "OutputView",
      "layout": "IPY_MODEL_5a5d74a142bb4c9a908ea1a3d73f6122",
      "msg_id": "",
      "outputs": []
     }
    },
    "5178954b174d46a591ecd2e6e87aad8e": {
     "model_module": "@jupyter-widgets/controls",
     "model_name": "DropdownModel",
     "state": {
      "_dom_classes": [],
      "_model_module": "@jupyter-widgets/controls",
      "_model_module_version": "1.5.0",
      "_model_name": "DropdownModel",
      "_options_labels": [
       "2017",
       "2018",
       "2019"
      ],
      "_view_count": null,
      "_view_module": "@jupyter-widgets/controls",
      "_view_module_version": "1.5.0",
      "_view_name": "DropdownView",
      "description": "Year",
      "description_tooltip": null,
      "disabled": false,
      "index": 1,
      "layout": "IPY_MODEL_c06c9dc9ebad403590923f1e1f997d18",
      "style": "IPY_MODEL_64338aff1e5b46b1908749f116604101"
     }
    },
    "5a5d74a142bb4c9a908ea1a3d73f6122": {
     "model_module": "@jupyter-widgets/base",
     "model_name": "LayoutModel",
     "state": {
      "_model_module": "@jupyter-widgets/base",
      "_model_module_version": "1.2.0",
      "_model_name": "LayoutModel",
      "_view_count": null,
      "_view_module": "@jupyter-widgets/base",
      "_view_module_version": "1.2.0",
      "_view_name": "LayoutView",
      "align_content": null,
      "align_items": null,
      "align_self": null,
      "border": null,
      "bottom": null,
      "display": null,
      "flex": null,
      "flex_flow": null,
      "grid_area": null,
      "grid_auto_columns": null,
      "grid_auto_flow": null,
      "grid_auto_rows": null,
      "grid_column": null,
      "grid_gap": null,
      "grid_row": null,
      "grid_template_areas": null,
      "grid_template_columns": null,
      "grid_template_rows": null,
      "height": null,
      "justify_content": null,
      "justify_items": null,
      "left": null,
      "margin": null,
      "max_height": null,
      "max_width": null,
      "min_height": null,
      "min_width": null,
      "object_fit": null,
      "object_position": null,
      "order": null,
      "overflow": null,
      "overflow_x": null,
      "overflow_y": null,
      "padding": null,
      "right": null,
      "top": null,
      "visibility": null,
      "width": null
     }
    },
    "64338aff1e5b46b1908749f116604101": {
     "model_module": "@jupyter-widgets/controls",
     "model_name": "DescriptionStyleModel",
     "state": {
      "_model_module": "@jupyter-widgets/controls",
      "_model_module_version": "1.5.0",
      "_model_name": "DescriptionStyleModel",
      "_view_count": null,
      "_view_module": "@jupyter-widgets/base",
      "_view_module_version": "1.2.0",
      "_view_name": "StyleView",
      "description_width": ""
     }
    },
    "659fe14b0ee94390bc881a9432490630": {
     "model_module": "@jupyter-widgets/controls",
     "model_name": "VBoxModel",
     "state": {
      "_dom_classes": [
       "widget-interact"
      ],
      "_model_module": "@jupyter-widgets/controls",
      "_model_module_version": "1.5.0",
      "_model_name": "VBoxModel",
      "_view_count": null,
      "_view_module": "@jupyter-widgets/controls",
      "_view_module_version": "1.5.0",
      "_view_name": "VBoxView",
      "box_style": "",
      "children": [
       "IPY_MODEL_5178954b174d46a591ecd2e6e87aad8e",
       "IPY_MODEL_50d55e6e1ae94d14bdb10922539c35e8"
      ],
      "layout": "IPY_MODEL_f5f373e866ef43178d8dcd7cca7d392f"
     }
    },
    "7c083186880e498fb12feff2f8df6749": {
     "model_module": "@jupyter-widgets/controls",
     "model_name": "SliderStyleModel",
     "state": {
      "_model_module": "@jupyter-widgets/controls",
      "_model_module_version": "1.5.0",
      "_model_name": "SliderStyleModel",
      "_view_count": null,
      "_view_module": "@jupyter-widgets/base",
      "_view_module_version": "1.2.0",
      "_view_name": "StyleView",
      "description_width": "",
      "handle_color": null
     }
    },
    "b99aa3bc271b4424aba6a1a38ce9a121": {
     "model_module": "@jupyter-widgets/controls",
     "model_name": "IntSliderModel",
     "state": {
      "_dom_classes": [],
      "_model_module": "@jupyter-widgets/controls",
      "_model_module_version": "1.5.0",
      "_model_name": "IntSliderModel",
      "_view_count": null,
      "_view_module": "@jupyter-widgets/controls",
      "_view_module_version": "1.5.0",
      "_view_name": "IntSliderView",
      "continuous_update": true,
      "description": "Number of Institutiuons to be displayed         on the report ",
      "description_tooltip": null,
      "disabled": false,
      "layout": "IPY_MODEL_e8214ea9f81b4446b5444e6632202e52",
      "max": 40,
      "min": 10,
      "orientation": "horizontal",
      "readout": true,
      "readout_format": "d",
      "step": 2,
      "style": "IPY_MODEL_7c083186880e498fb12feff2f8df6749",
      "value": 14
     }
    },
    "c06c9dc9ebad403590923f1e1f997d18": {
     "model_module": "@jupyter-widgets/base",
     "model_name": "LayoutModel",
     "state": {
      "_model_module": "@jupyter-widgets/base",
      "_model_module_version": "1.2.0",
      "_model_name": "LayoutModel",
      "_view_count": null,
      "_view_module": "@jupyter-widgets/base",
      "_view_module_version": "1.2.0",
      "_view_name": "LayoutView",
      "align_content": null,
      "align_items": null,
      "align_self": null,
      "border": null,
      "bottom": null,
      "display": null,
      "flex": null,
      "flex_flow": null,
      "grid_area": null,
      "grid_auto_columns": null,
      "grid_auto_flow": null,
      "grid_auto_rows": null,
      "grid_column": null,
      "grid_gap": null,
      "grid_row": null,
      "grid_template_areas": null,
      "grid_template_columns": null,
      "grid_template_rows": null,
      "height": null,
      "justify_content": null,
      "justify_items": null,
      "left": null,
      "margin": null,
      "max_height": null,
      "max_width": null,
      "min_height": null,
      "min_width": null,
      "object_fit": null,
      "object_position": null,
      "order": null,
      "overflow": null,
      "overflow_x": null,
      "overflow_y": null,
      "padding": null,
      "right": null,
      "top": null,
      "visibility": null,
      "width": null
     }
    },
    "e8214ea9f81b4446b5444e6632202e52": {
     "model_module": "@jupyter-widgets/base",
     "model_name": "LayoutModel",
     "state": {
      "_model_module": "@jupyter-widgets/base",
      "_model_module_version": "1.2.0",
      "_model_name": "LayoutModel",
      "_view_count": null,
      "_view_module": "@jupyter-widgets/base",
      "_view_module_version": "1.2.0",
      "_view_name": "LayoutView",
      "align_content": null,
      "align_items": null,
      "align_self": null,
      "border": null,
      "bottom": null,
      "display": null,
      "flex": null,
      "flex_flow": null,
      "grid_area": null,
      "grid_auto_columns": null,
      "grid_auto_flow": null,
      "grid_auto_rows": null,
      "grid_column": null,
      "grid_gap": null,
      "grid_row": null,
      "grid_template_areas": null,
      "grid_template_columns": null,
      "grid_template_rows": null,
      "height": null,
      "justify_content": null,
      "justify_items": null,
      "left": null,
      "margin": null,
      "max_height": null,
      "max_width": null,
      "min_height": null,
      "min_width": null,
      "object_fit": null,
      "object_position": null,
      "order": null,
      "overflow": null,
      "overflow_x": null,
      "overflow_y": null,
      "padding": null,
      "right": null,
      "top": null,
      "visibility": null,
      "width": null
     }
    },
    "f5f373e866ef43178d8dcd7cca7d392f": {
     "model_module": "@jupyter-widgets/base",
     "model_name": "LayoutModel",
     "state": {
      "_model_module": "@jupyter-widgets/base",
      "_model_module_version": "1.2.0",
      "_model_name": "LayoutModel",
      "_view_count": null,
      "_view_module": "@jupyter-widgets/base",
      "_view_module_version": "1.2.0",
      "_view_name": "LayoutView",
      "align_content": null,
      "align_items": null,
      "align_self": null,
      "border": null,
      "bottom": null,
      "display": null,
      "flex": null,
      "flex_flow": null,
      "grid_area": null,
      "grid_auto_columns": null,
      "grid_auto_flow": null,
      "grid_auto_rows": null,
      "grid_column": null,
      "grid_gap": null,
      "grid_row": null,
      "grid_template_areas": null,
      "grid_template_columns": null,
      "grid_template_rows": null,
      "height": null,
      "justify_content": null,
      "justify_items": null,
      "left": null,
      "margin": null,
      "max_height": null,
      "max_width": null,
      "min_height": null,
      "min_width": null,
      "object_fit": null,
      "object_position": null,
      "order": null,
      "overflow": null,
      "overflow_x": null,
      "overflow_y": null,
      "padding": null,
      "right": null,
      "top": null,
      "visibility": null,
      "width": null
     }
    }
   }
  }
 },
 "nbformat": 4,
 "nbformat_minor": 1
}
