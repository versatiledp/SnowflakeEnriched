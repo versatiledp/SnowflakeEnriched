{
 "cells": [
  {
   "cell_type": "code",
   "execution_count": null,
   "metadata": {},
   "outputs": [],
   "source": [
    "## This notebook is used to convert CSV files to ORC file for loading into snowflake\n",
    "## Output of big data may be ORC files and those can be loaded in the snowflake without any \n",
    "#  data manipulation\n",
    "\n",
    "import os\n",
    "import sys\n",
    "\n",
    "spark_path = \"C:\\spark\\spark-3.0.0-bin-hadoop2.7\"\n",
    "hadoop_path = \"C:\\spark\\spark-3.0.0-bin-hadoop2.7\\hadoop\"\n",
    "\n",
    "os.environ['SPARK_HOME'] = spark_path\n",
    "os.environ['HADOOP_HOME'] = hadoop_path\n",
    "\n",
    "sys.path.append(spark_path + \"/bin\")\n",
    "sys.path.append(spark_path + \"/python\")\n",
    "sys.path.append(spark_path + \"/python/pyspark/\")\n",
    "sys.path.append(spark_path + \"/python/lib\")\n",
    "sys.path.append(spark_path + \"/python/lib/pyspark.zip\")\n",
    "sys.path.append(spark_path + \"/python/lib/py4j-0.10.9-src.zip\")\n",
    "sys.path.append(spark_path + \"/jars\")\n",
    "sys.path.append(spark_path + \"org.apache.spark:spark-avro_2.12:3.0.1\")\n",
    "\n",
    "#--packages org.apache.spark:spark-avro_2.12:3.0.1\n",
    "from pyspark import SparkContext\n",
    "#from pyspark import SparkConf\n",
    "from pyspark.sql import SQLContext"
   ]
  },
  {
   "cell_type": "code",
   "execution_count": null,
   "metadata": {},
   "outputs": [],
   "source": [
    "## Create parquet file\n",
    "\n",
    "from pyspark.context import SparkContext \n",
    "sc = SparkContext.getOrCreate()\n",
    "s1 = SQLContext(sc)\n",
    "df = s1.read.csv('C:/snowflake/data/rawdata/ic2017_ay.csv', sep=',', header=True, inferSchema=True) \n",
    "df.write.parquet(\"C:/snowflake/data/rawdata/ic2017_ay.parquet\")\n",
    "df.show()\n"
   ]
  },
  {
   "cell_type": "code",
   "execution_count": null,
   "metadata": {},
   "outputs": [],
   "source": [
    "# use the partquet file to convert to ORC\n",
    "\n",
    "from pyspark.context import SparkContext \n",
    "sc = SparkContext.getOrCreate()\n",
    "s1 = SQLContext(sc)\n",
    "df = s1.read.parquet('C:/snowflake/data/rawdata/ic2017_ay.parquet')\n",
    "df.show()\n",
    "df.write.orc(\"C:/snowflake/data/input/ic2017_ay_orc\")"
   ]
  },
  {
   "cell_type": "code",
   "execution_count": null,
   "metadata": {},
   "outputs": [],
   "source": [
    "## Create parquet file\n",
    "\n",
    "from pyspark.context import SparkContext \n",
    "sc = SparkContext.getOrCreate()\n",
    "s1 = SQLContext(sc)\n",
    "df = s1.read.csv('C:/snowflake/data/rawdata/ic2018_ay.csv', sep=',', header=True, inferSchema=True) \n",
    "df.write.parquet(\"C:/snowflake/data/rawdata/ic2018_ay.parquet\")\n",
    "df.show()\n"
   ]
  },
  {
   "cell_type": "code",
   "execution_count": null,
   "metadata": {},
   "outputs": [],
   "source": [
    "# use the partquet file to convert to ORC\n",
    "\n",
    "from pyspark.context import SparkContext \n",
    "sc = SparkContext.getOrCreate()\n",
    "s1 = SQLContext(sc)\n",
    "df = s1.read.parquet('C:/snowflake/data/rawdata/ic2018_ay.parquet')\n",
    "df.show()\n",
    "df.write.orc(\"C:/snowflake/data/input/ic2018_ay_orc\")"
   ]
  }
 ],
 "metadata": {
  "kernelspec": {
   "display_name": "Python 3",
   "language": "python",
   "name": "python3"
  },
  "language_info": {
   "codemirror_mode": {
    "name": "ipython",
    "version": 3
   },
   "file_extension": ".py",
   "mimetype": "text/x-python",
   "name": "python",
   "nbconvert_exporter": "python",
   "pygments_lexer": "ipython3",
   "version": "3.8.2"
  }
 },
 "nbformat": 4,
 "nbformat_minor": 4
}
